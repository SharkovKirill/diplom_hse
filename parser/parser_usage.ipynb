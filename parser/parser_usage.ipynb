{
 "cells": [
  {
   "cell_type": "code",
   "execution_count": 1,
   "metadata": {},
   "outputs": [],
   "source": [
    "from selenium import webdriver \n",
    "from selenium.webdriver.common.by import By\n",
    "from selenium.webdriver.common.keys import Keys\n",
    "import pandas as pd\n",
    "\n",
    "from selenium.webdriver.support.ui import WebDriverWait\n",
    "from selenium.webdriver.support import expected_conditions as EC\n",
    "\n",
    "from districts import District\n",
    "from object_type import ObjectType"
   ]
  },
  {
   "cell_type": "code",
   "execution_count": 2,
   "metadata": {},
   "outputs": [
    {
     "name": "stdout",
     "output_type": "stream",
     "text": [
      "/Users/kirill/Desktop/projects/diplom_hse/parser\n"
     ]
    }
   ],
   "source": [
    "!pwd"
   ]
  },
  {
   "cell_type": "code",
   "execution_count": 3,
   "metadata": {},
   "outputs": [],
   "source": [
    "%load_ext autoreload\n",
    "%autoreload 2\n",
    "from cian_parser import SimpleCianParser\n",
    "\n",
    "parser = SimpleCianParser()"
   ]
  },
  {
   "cell_type": "code",
   "execution_count": 4,
   "metadata": {},
   "outputs": [],
   "source": [
    "FLAT_MAX_PRICE = 14_000_000\n",
    "FLAT_MIN_PRICE = None\n",
    "\n",
    "df = parser.get_flat_images(\n",
    "    images_cnt=20,\n",
    "    pages_cnt=3,\n",
    "    districts=[District.UAO],\n",
    "    object_types=[ObjectType.Secondary],\n",
    "    maxprice=FLAT_MAX_PRICE,\n",
    "    minprice=FLAT_MIN_PRICE\n",
    "    )"
   ]
  },
  {
   "cell_type": "code",
   "execution_count": 5,
   "metadata": {},
   "outputs": [
    {
     "data": {
      "text/html": [
       "<div>\n",
       "<style scoped>\n",
       "    .dataframe tbody tr th:only-of-type {\n",
       "        vertical-align: middle;\n",
       "    }\n",
       "\n",
       "    .dataframe tbody tr th {\n",
       "        vertical-align: top;\n",
       "    }\n",
       "\n",
       "    .dataframe thead th {\n",
       "        text-align: right;\n",
       "    }\n",
       "</style>\n",
       "<table border=\"1\" class=\"dataframe\">\n",
       "  <thead>\n",
       "    <tr style=\"text-align: right;\">\n",
       "      <th></th>\n",
       "      <th>url</th>\n",
       "    </tr>\n",
       "  </thead>\n",
       "  <tbody>\n",
       "    <tr>\n",
       "      <th>0</th>\n",
       "      <td>https://images.cdn-cian.ru/images/kvartira-mos...</td>\n",
       "    </tr>\n",
       "    <tr>\n",
       "      <th>1</th>\n",
       "      <td>https://images.cdn-cian.ru/images/kvartira-mos...</td>\n",
       "    </tr>\n",
       "    <tr>\n",
       "      <th>2</th>\n",
       "      <td>https://images.cdn-cian.ru/images/kvartira-mos...</td>\n",
       "    </tr>\n",
       "    <tr>\n",
       "      <th>3</th>\n",
       "      <td>https://images.cdn-cian.ru/images/kvartira-mos...</td>\n",
       "    </tr>\n",
       "    <tr>\n",
       "      <th>4</th>\n",
       "      <td>https://images.cdn-cian.ru/images/kvartira-mos...</td>\n",
       "    </tr>\n",
       "    <tr>\n",
       "      <th>5</th>\n",
       "      <td>https://images.cdn-cian.ru/images/kvartira-mos...</td>\n",
       "    </tr>\n",
       "    <tr>\n",
       "      <th>6</th>\n",
       "      <td>https://images.cdn-cian.ru/images/kvartira-mos...</td>\n",
       "    </tr>\n",
       "    <tr>\n",
       "      <th>7</th>\n",
       "      <td>https://images.cdn-cian.ru/images/kvartira-mos...</td>\n",
       "    </tr>\n",
       "    <tr>\n",
       "      <th>8</th>\n",
       "      <td>https://images.cdn-cian.ru/images/kvartira-mos...</td>\n",
       "    </tr>\n",
       "    <tr>\n",
       "      <th>9</th>\n",
       "      <td>https://images.cdn-cian.ru/images/kvartira-mos...</td>\n",
       "    </tr>\n",
       "    <tr>\n",
       "      <th>10</th>\n",
       "      <td>https://images.cdn-cian.ru/images/kvartira-mos...</td>\n",
       "    </tr>\n",
       "    <tr>\n",
       "      <th>11</th>\n",
       "      <td>https://images.cdn-cian.ru/images/kvartira-mos...</td>\n",
       "    </tr>\n",
       "    <tr>\n",
       "      <th>12</th>\n",
       "      <td>https://images.cdn-cian.ru/images/kvartira-mos...</td>\n",
       "    </tr>\n",
       "    <tr>\n",
       "      <th>13</th>\n",
       "      <td>https://images.cdn-cian.ru/images/kvartira-mos...</td>\n",
       "    </tr>\n",
       "    <tr>\n",
       "      <th>14</th>\n",
       "      <td>https://images.cdn-cian.ru/images/kvartira-mos...</td>\n",
       "    </tr>\n",
       "    <tr>\n",
       "      <th>15</th>\n",
       "      <td>https://images.cdn-cian.ru/images/kvartira-mos...</td>\n",
       "    </tr>\n",
       "    <tr>\n",
       "      <th>16</th>\n",
       "      <td>https://images.cdn-cian.ru/images/kvartira-mos...</td>\n",
       "    </tr>\n",
       "    <tr>\n",
       "      <th>17</th>\n",
       "      <td>https://images.cdn-cian.ru/images/kvartira-mos...</td>\n",
       "    </tr>\n",
       "    <tr>\n",
       "      <th>18</th>\n",
       "      <td>https://images.cdn-cian.ru/images/kvartira-mos...</td>\n",
       "    </tr>\n",
       "    <tr>\n",
       "      <th>19</th>\n",
       "      <td>https://images.cdn-cian.ru/images/kvartira-mos...</td>\n",
       "    </tr>\n",
       "  </tbody>\n",
       "</table>\n",
       "</div>"
      ],
      "text/plain": [
       "                                                  url\n",
       "0   https://images.cdn-cian.ru/images/kvartira-mos...\n",
       "1   https://images.cdn-cian.ru/images/kvartira-mos...\n",
       "2   https://images.cdn-cian.ru/images/kvartira-mos...\n",
       "3   https://images.cdn-cian.ru/images/kvartira-mos...\n",
       "4   https://images.cdn-cian.ru/images/kvartira-mos...\n",
       "5   https://images.cdn-cian.ru/images/kvartira-mos...\n",
       "6   https://images.cdn-cian.ru/images/kvartira-mos...\n",
       "7   https://images.cdn-cian.ru/images/kvartira-mos...\n",
       "8   https://images.cdn-cian.ru/images/kvartira-mos...\n",
       "9   https://images.cdn-cian.ru/images/kvartira-mos...\n",
       "10  https://images.cdn-cian.ru/images/kvartira-mos...\n",
       "11  https://images.cdn-cian.ru/images/kvartira-mos...\n",
       "12  https://images.cdn-cian.ru/images/kvartira-mos...\n",
       "13  https://images.cdn-cian.ru/images/kvartira-mos...\n",
       "14  https://images.cdn-cian.ru/images/kvartira-mos...\n",
       "15  https://images.cdn-cian.ru/images/kvartira-mos...\n",
       "16  https://images.cdn-cian.ru/images/kvartira-mos...\n",
       "17  https://images.cdn-cian.ru/images/kvartira-mos...\n",
       "18  https://images.cdn-cian.ru/images/kvartira-mos...\n",
       "19  https://images.cdn-cian.ru/images/kvartira-mos..."
      ]
     },
     "execution_count": 5,
     "metadata": {},
     "output_type": "execute_result"
    }
   ],
   "source": [
    "df"
   ]
  },
  {
   "cell_type": "code",
   "execution_count": 6,
   "metadata": {},
   "outputs": [
    {
     "data": {
      "text/plain": [
       "url    20\n",
       "dtype: int64"
      ]
     },
     "execution_count": 6,
     "metadata": {},
     "output_type": "execute_result"
    }
   ],
   "source": [
    "df.nunique()"
   ]
  },
  {
   "cell_type": "code",
   "execution_count": 7,
   "metadata": {},
   "outputs": [
    {
     "data": {
      "text/plain": [
       "20"
      ]
     },
     "execution_count": 7,
     "metadata": {},
     "output_type": "execute_result"
    }
   ],
   "source": [
    "df.size"
   ]
  },
  {
   "cell_type": "code",
   "execution_count": 8,
   "metadata": {},
   "outputs": [],
   "source": [
    "df.to_csv('images.csv', sep=';', encoding='utf-8', header=False)"
   ]
  },
  {
   "cell_type": "code",
   "execution_count": 9,
   "metadata": {},
   "outputs": [
    {
     "name": "stdout",
     "output_type": "stream",
     "text": [
      "The autoreload extension is already loaded. To reload it, use:\n",
      "  %reload_ext autoreload\n"
     ]
    }
   ],
   "source": [
    "%load_ext autoreload\n",
    "%autoreload 2\n",
    "from utils import save_to_directory\n",
    "\n",
    "save_to_directory('images.csv')"
   ]
  }
 ],
 "metadata": {
  "kernelspec": {
   "display_name": ".venv",
   "language": "python",
   "name": "python3"
  },
  "language_info": {
   "codemirror_mode": {
    "name": "ipython",
    "version": 3
   },
   "file_extension": ".py",
   "mimetype": "text/x-python",
   "name": "python",
   "nbconvert_exporter": "python",
   "pygments_lexer": "ipython3",
   "version": "3.10.11"
  }
 },
 "nbformat": 4,
 "nbformat_minor": 2
}
